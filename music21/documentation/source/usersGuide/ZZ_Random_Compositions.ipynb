{
 "cells": [
  {
   "cell_type": "code",
   "execution_count": 37,
   "metadata": {
    "collapsed": false
   },
   "outputs": [
    {
     "data": {
      "text/html": [
       "\n",
       "                <div id='midiPlayerDiv22197'></div>\n",
       "                <link rel=\"stylesheet\" href=\"http://artusi.xyz/music21j/css/m21.css\" \n",
       "                    type=\"text/css\" />\n",
       "                <script>\n",
       "                require.config({\n",
       "                    paths: {'music21': 'http://artusi.xyz/music21j/src/music21'} \n",
       "                }); \n",
       "                require(['music21'], function() { \n",
       "                               mp = new music21.miditools.MidiPlayer();\n",
       "                               mp.addPlayer('#midiPlayerDiv22197'); \n",
       "                               mp.base64Load('data:audio/midi;base64,TVRoZAAAAAYAAQABBABNVHJrAAAAPwD/AwAA4ABAiACQJFoAkCpaAJAvWgCQNFoAkDhaAJA9WogAgCQAAIAqAACALwAAgDQAAIA4AACAPQCIAP8vAA=='); \n",
       "                        });\n",
       "                </script>"
      ],
      "text/plain": [
       "<IPython.core.display.HTML object>"
      ]
     },
     "metadata": {},
     "output_type": "display_data"
    }
   ],
   "source": [
    "c = chord.Chord('C2 F#2 B2 E3 A-3 C#4')\n",
    "c.show('midi')"
   ]
  },
  {
   "cell_type": "code",
   "execution_count": 38,
   "metadata": {
    "collapsed": false
   },
   "outputs": [
    {
     "data": {
      "text/html": [
       "\n",
       "                <div id='midiPlayerDiv22205'></div>\n",
       "                <link rel=\"stylesheet\" href=\"http://artusi.xyz/music21j/css/m21.css\" \n",
       "                    type=\"text/css\" />\n",
       "                <script>\n",
       "                require.config({\n",
       "                    paths: {'music21': 'http://artusi.xyz/music21j/src/music21'} \n",
       "                }); \n",
       "                require(['music21'], function() { \n",
       "                               mp = new music21.miditools.MidiPlayer();\n",
       "                               mp.addPlayer('#midiPlayerDiv22205'); \n",
       "                               mp.base64Load('data:audio/midi;base64,TVRoZAAAAAYAAQABBABNVHJrAAAAPwD/AwAA4ABAiACQJFoAkCpaAJA7WgCQNFoAkCxaAJA9WogAgCQAAIAqAACAOwAAgDQAAIAsAACAPQCIAP8vAA=='); \n",
       "                        });\n",
       "                </script>"
      ],
      "text/plain": [
       "<IPython.core.display.HTML object>"
      ]
     },
     "metadata": {},
     "output_type": "display_data"
    }
   ],
   "source": [
    "import copy\n",
    "def octaveSwap(cIn):\n",
    "    c = copy.deepcopy(cIn)\n",
    "    for i in range(1, len(c.pitches) - 1):\n",
    "        copyOctave = i + 1\n",
    "        if copyOctave == len(c.pitches) - 1:\n",
    "            copyOctave = 1\n",
    "        c.pitches[i].octave = cIn.pitches[copyOctave].octave\n",
    "    return c\n",
    "\n",
    "c2 = octaveSwap(c)\n",
    "c2.show('midi')"
   ]
  },
  {
   "cell_type": "code",
   "execution_count": 41,
   "metadata": {
    "collapsed": false
   },
   "outputs": [
    {
     "data": {
      "text/html": [
       "\n",
       "                <div id='midiPlayerDiv24653'></div>\n",
       "                <link rel=\"stylesheet\" href=\"http://artusi.xyz/music21j/css/m21.css\" \n",
       "                    type=\"text/css\" />\n",
       "                <script>\n",
       "                require.config({\n",
       "                    paths: {'music21': 'http://artusi.xyz/music21j/src/music21'} \n",
       "                }); \n",
       "                require(['music21'], function() { \n",
       "                               mp = new music21.miditools.MidiPlayer();\n",
       "                               mp.addPlayer('#midiPlayerDiv24653'); \n",
       "                               mp.base64Load('data:audio/midi;base64,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'); \n",
       "                        });\n",
       "                </script>"
      ],
      "text/plain": [
       "<IPython.core.display.HTML object>"
      ]
     },
     "metadata": {},
     "output_type": "display_data"
    }
   ],
   "source": [
    "import random\n",
    "\n",
    "c.volume = 60\n",
    "s = stream.Stream([c])\n",
    "s.append(dynamics.Dynamic('mp'))\n",
    "cThis = c\n",
    "for i in range(6):\n",
    "    cThis = octaveSwap(cThis)\n",
    "    s.append(cThis)\n",
    "\n",
    "for j in range(8):\n",
    "    cThis.volume.velocity *= 1.05\n",
    "    cNext = copy.deepcopy(cThis)\n",
    "    cNext.pitches[0].octave += 2\n",
    "    cNext.sortAscending(inPlace=True)\n",
    "    if j % 2 == 0:\n",
    "        pNew = pitch.Pitch(random.randint(cNext.pitches[1].ps + 1, cNext.pitches[-1].ps - 1))\n",
    "        cNext.pitches = cNext.pitches + (pNew,)\n",
    "        cNext.sortAscending(inPlace=True)\n",
    "    tupChoice = random.choice([(7, 5), (7, 6), (5, 4), (3, 2), (4, 5)])\n",
    "    cNext.duration.appendTuplet(duration.Tuplet(*tupChoice))\n",
    "    s.append(cNext)\n",
    "    cThis = cNext\n",
    "    for i in range(random.randint(6, 14)):\n",
    "        cThis = octaveSwap(cThis)\n",
    "        if random.random() > .75:\n",
    "            cThis.articulations.append(articulations.Accent())\n",
    "        else:\n",
    "            cThis.articulations = []\n",
    "        s.append(cThis)\n",
    "cOrig = copy.deepcopy(c)\n",
    "cOrig.duration.type = 'whole'\n",
    "cOrig.duration.dots = 1\n",
    "\n",
    "s.append(copy.deepcopy(cOrig))\n",
    "s.append(copy.deepcopy(cOrig))\n",
    "s.append(copy.deepcopy(cOrig))\n",
    "s.append(copy.deepcopy(cThis))\n",
    "s.append(octaveSwap(cThis))\n",
    "s.append(octaveSwap(octaveSwap(cThis)))\n",
    "s.append(note.Rest('32nd'))\n",
    "cOrig.articulations.append(articulations.StrongAccent())\n",
    "s.append(cOrig)\n",
    "s.show('midi')"
   ]
  },
  {
   "cell_type": "code",
   "execution_count": 49,
   "metadata": {
    "collapsed": false
   },
   "outputs": [
    {
     "data": {
      "text/plain": [
       "'/var/folders/x5/rymq2tx16lqbpytwb1n_cc4c0000gn/T/music21/tmpqowkt1m6.xml'"
      ]
     },
     "execution_count": 49,
     "metadata": {},
     "output_type": "execute_result"
    }
   ],
   "source": [
    "sCh = stream.Part()\n",
    "sCl = stream.Part()\n",
    "\n",
    "for n in s.notes:\n",
    "    nCopy = copy.deepcopy(n)\n",
    "    nCopy.duration.tuplets = ()\n",
    "    nCopy2 = copy.deepcopy(nCopy)\n",
    "    if n.isRest:\n",
    "        sCh.append(nCopy)\n",
    "        sCl.append(nCopy)\n",
    "    else:\n",
    "        nCopy.pitches = [p for p in nCopy.pitches if p.ps > 61]\n",
    "        nCopy2.pitches = [p for p in nCopy2.pitches if p.ps <= 61]\n",
    "        if len(nCopy.pitches) > 0:\n",
    "            sCh.append(nCopy)\n",
    "        else:\n",
    "            sCh.append(note.Rest())\n",
    "        if len(nCopy2.pitches) > 0:\n",
    "            sCl.append(nCopy2)\n",
    "        else:\n",
    "            sCl.append(note.Rest())\n",
    "            \n",
    "        \n",
    "sCC = stream.Score()\n",
    "sCC.insert(0, sCh)\n",
    "sCC.insert(0, sCl)\n",
    "sCC.write('musicxml')"
   ]
  },
  {
   "cell_type": "code",
   "execution_count": null,
   "metadata": {
    "collapsed": true
   },
   "outputs": [],
   "source": []
  }
 ],
 "metadata": {
  "anaconda-cloud": {},
  "kernelspec": {
   "display_name": "Python [Root]",
   "language": "python",
   "name": "Python [Root]"
  },
  "language_info": {
   "codemirror_mode": {
    "name": "ipython",
    "version": 3
   },
   "file_extension": ".py",
   "mimetype": "text/x-python",
   "name": "python",
   "nbconvert_exporter": "python",
   "pygments_lexer": "ipython3",
   "version": "3.5.2"
  }
 },
 "nbformat": 4,
 "nbformat_minor": 0
}
